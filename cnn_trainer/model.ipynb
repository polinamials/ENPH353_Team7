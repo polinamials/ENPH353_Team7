{
 "cells": [
  {
   "cell_type": "code",
   "execution_count": 1,
   "metadata": {},
   "outputs": [
    {
     "name": "stderr",
     "output_type": "stream",
     "text": [
      "2023-03-23 10:49:06.951439: W tensorflow/stream_executor/platform/default/dso_loader.cc:64] Could not load dynamic library 'libcudart.so.11.0'; dlerror: libcudart.so.11.0: cannot open shared object file: No such file or directory; LD_LIBRARY_PATH: /home/fizzer/.local/lib/python3.8/site-packages/cv2/../../lib64:/opt/ros/noetic/lib\n",
      "2023-03-23 10:49:06.951455: I tensorflow/stream_executor/cuda/cudart_stub.cc:29] Ignore above cudart dlerror if you do not have a GPU set up on your machine.\n"
     ]
    }
   ],
   "source": [
    "import numpy as np\n",
    "import cv2\n",
    "import h5py\n",
    "import tensorflow as tf\n",
    "from tensorflow import keras\n",
    "from tensorflow.keras import Model\n",
    "from tensorflow.keras.layers import (\n",
    "    Input,\n",
    "    Dense,\n",
    "    Conv2D,\n",
    "    Concatenate,\n",
    "    MaxPool2D,\n",
    "    Dropout,\n",
    "    Flatten,\n",
    ")"
   ]
  },
  {
   "cell_type": "code",
   "execution_count": 2,
   "metadata": {},
   "outputs": [
    {
     "name": "stdout",
     "output_type": "stream",
     "text": [
      "(40614, 90, 160, 1)\n",
      "(40614, 2)\n"
     ]
    }
   ],
   "source": [
    "# Loading all the data\n",
    "imgs = np.load(\"/home/fizzer/ros_ws/cnn_trainer/data/imgs_0.npy\")\n",
    "vels = np.load(\"/home/fizzer/ros_ws/cnn_trainer/data/vels_0.npy\")\n",
    "print(imgs.shape)\n",
    "print(vels.shape)"
   ]
  },
  {
   "cell_type": "code",
   "execution_count": 3,
   "metadata": {},
   "outputs": [
    {
     "name": "stdout",
     "output_type": "stream",
     "text": [
      "(40614, 90, 160, 1)\n",
      "(40614, 2)\n"
     ]
    }
   ],
   "source": [
    "# remove all data where the robot is not moving forward\n",
    "not_moving_fwd_idx = np.where(vels[:, 0] == 0.0)[0]\n",
    "img_data = np.delete(imgs, not_moving_fwd_idx, axis=0)\n",
    "vel_data = np.delete(vels, not_moving_fwd_idx, axis=0)\n",
    "\n",
    "print(imgs.shape)\n",
    "print(vels.shape)"
   ]
  },
  {
   "cell_type": "code",
   "execution_count": 4,
   "metadata": {},
   "outputs": [
    {
     "name": "stdout",
     "output_type": "stream",
     "text": [
      "starting data normalization\n",
      "finished normalizing data\n"
     ]
    }
   ],
   "source": [
    "print(\"starting data normalization\")\n",
    "img_data = img_data / 255\n",
    "print(\"finished normalizing data\")"
   ]
  },
  {
   "cell_type": "code",
   "execution_count": 5,
   "metadata": {},
   "outputs": [],
   "source": [
    "# shift\n",
    "shift = 5\n",
    "\n",
    "img_data = img_data[:-shift]\n",
    "vel_data = vel_data[shift:]"
   ]
  },
  {
   "cell_type": "code",
   "execution_count": 6,
   "metadata": {},
   "outputs": [
    {
     "name": "stdout",
     "output_type": "stream",
     "text": [
      "(28141, 90, 160, 1)\n",
      "(11246, 90, 160, 1)\n",
      "(823, 90, 160, 1)\n",
      "(28141, 2)\n",
      "(11246, 2)\n",
      "(823, 2)\n"
     ]
    }
   ],
   "source": [
    "straight = np.where(vel_data[:, 1] == 0.0)[0]\n",
    "left = np.where(vel_data[:, 1] == 1.0)[0]\n",
    "right = np.where(vel_data[:, 1] == -1.0)[0]\n",
    "\n",
    "straight_img = img_data[straight]\n",
    "left_img = img_data[left]\n",
    "right_img = img_data[right]\n",
    "\n",
    "straight_vel = vel_data[straight]\n",
    "left_vel = vel_data[left]\n",
    "right_vel = vel_data[right]\n",
    "\n",
    "print(straight_img.shape)\n",
    "print(left_img.shape)\n",
    "print(right_img.shape)\n",
    "print(straight_vel.shape)\n",
    "print(left_vel.shape)\n",
    "print(right_vel.shape)"
   ]
  },
  {
   "cell_type": "code",
   "execution_count": 18,
   "metadata": {},
   "outputs": [
    {
     "name": "stdout",
     "output_type": "stream",
     "text": [
      "(14070,)\n",
      "(5623,)\n",
      "(823,)\n",
      "(20516,)\n"
     ]
    }
   ],
   "source": [
    "straight_keep = straight[:len(straight)//2]\n",
    "print(straight_keep.shape)\n",
    "left_keep=left[:len(left)//2]\n",
    "print(left_keep.shape)\n",
    "right_keep=right\n",
    "print(right_keep.shape)\n",
    "all_keep = np.concatenate([straight_keep, left_keep, right_keep])\n",
    "print(all_keep.shape)"
   ]
  },
  {
   "cell_type": "code",
   "execution_count": null,
   "metadata": {},
   "outputs": [],
   "source": [
    "img_data = img_data[all_keep]\n",
    "vel_data=vel_data[all_keep]\n",
    "print(img_data.shape)\n",
    "print(vel_data.shape)"
   ]
  },
  {
   "cell_type": "code",
   "execution_count": 9,
   "metadata": {},
   "outputs": [],
   "source": [
    "velocities_to_actions = {\n",
    "    (0.25, 0.0): np.array([1, 0, 0]),\n",
    "    (0.25, 1.0): np.array([0, 1, 0]),\n",
    "    (0.25, -1.0): np.array([0, 0, 1]),\n",
    "}\n",
    "\n",
    "actions = np.array([velocities_to_actions[tuple(i)] for i in vel_data])"
   ]
  },
  {
   "cell_type": "code",
   "execution_count": 12,
   "metadata": {},
   "outputs": [
    {
     "name": "stdout",
     "output_type": "stream",
     "text": [
      "Model: \"model_2\"\n",
      "_________________________________________________________________\n",
      " Layer (type)                Output Shape              Param #   \n",
      "=================================================================\n",
      " input_3 (InputLayer)        [(None, 90, 160, 1)]      0         \n",
      "                                                                 \n",
      " conv2d_4 (Conv2D)           (None, 90, 160, 32)       544       \n",
      "                                                                 \n",
      " max_pooling2d_4 (MaxPooling  (None, 22, 40, 32)       0         \n",
      " 2D)                                                             \n",
      "                                                                 \n",
      " conv2d_5 (Conv2D)           (None, 22, 40, 16)        8208      \n",
      "                                                                 \n",
      " max_pooling2d_5 (MaxPooling  (None, 5, 10, 16)        0         \n",
      " 2D)                                                             \n",
      "                                                                 \n",
      " dropout_6 (Dropout)         (None, 5, 10, 16)         0         \n",
      "                                                                 \n",
      " flatten_2 (Flatten)         (None, 800)               0         \n",
      "                                                                 \n",
      " dense_8 (Dense)             (None, 128)               102528    \n",
      "                                                                 \n",
      " dropout_7 (Dropout)         (None, 128)               0         \n",
      "                                                                 \n",
      " dense_9 (Dense)             (None, 64)                8256      \n",
      "                                                                 \n",
      " dropout_8 (Dropout)         (None, 64)                0         \n",
      "                                                                 \n",
      " dense_10 (Dense)            (None, 32)                2080      \n",
      "                                                                 \n",
      " dense_11 (Dense)            (None, 3)                 99        \n",
      "                                                                 \n",
      "=================================================================\n",
      "Total params: 121,715\n",
      "Trainable params: 121,715\n",
      "Non-trainable params: 0\n",
      "_________________________________________________________________\n"
     ]
    }
   ],
   "source": [
    "input_image = Input(shape=(90, 160, 1))\n",
    "output_image = Conv2D(32, 4, padding=\"same\")(input_image)\n",
    "output_image = MaxPool2D(4)(output_image)\n",
    "\n",
    "# output_image = Conv2D(32, 4, padding=\"same\")(output_image)\n",
    "# output_image = MaxPool2D(2)(output_image)\n",
    "# output_image = Dropout(0.5)(output_image)\n",
    "\n",
    "output_image = Conv2D(16, 4, padding=\"same\")(output_image)\n",
    "output_image = MaxPool2D(4)(output_image)\n",
    "output_image = Dropout(0.5)(output_image)\n",
    "\n",
    "# output_image = Conv2D(16, 4, padding=\"same\")(output_image)\n",
    "# output_image = MaxPool2D(2)(output_image)\n",
    "# output_image = Dropout(0.5)(output_image)\n",
    "\n",
    "output_image = Flatten()(output_image)\n",
    "\n",
    "output_image = Dense(128, activation=\"relu\")(output_image)\n",
    "output_image = Dropout(0.5)(output_image)\n",
    "\n",
    "output_image = Dense(64, activation=\"relu\")(output_image)\n",
    "output_image = Dropout(0.5)(output_image)\n",
    "\n",
    "output_image = Dense(32, activation=\"relu\")(output_image)\n",
    "#output_image = Dropout(0.5)(output_image)\n",
    "\n",
    "#output_image = Dense(16, activation=\"relu\")(output_image)\n",
    "\n",
    "output_image = Dense(3, activation=\"softmax\")(output_image)\n",
    "\n",
    "\n",
    "image_net = Model(input_image, output_image)\n",
    "image_net.summary()\n",
    "image_net.compile(\n",
    "    optimizer=\"adam\", loss=\"categorical_crossentropy\", metrics=[\"accuracy\"]\n",
    ")"
   ]
  },
  {
   "cell_type": "code",
   "execution_count": 13,
   "metadata": {},
   "outputs": [
    {
     "name": "stderr",
     "output_type": "stream",
     "text": [
      "2023-03-23 10:49:30.742214: W tensorflow/core/framework/cpu_allocator_impl.cc:82] Allocation of 1852876800 exceeds 10% of free system memory.\n"
     ]
    },
    {
     "name": "stdout",
     "output_type": "stream",
     "text": [
      "Epoch 1/3\n",
      "252/252 [==============================] - ETA: 0s - loss: 0.5119 - accuracy: 0.8143"
     ]
    },
    {
     "name": "stderr",
     "output_type": "stream",
     "text": [
      "2023-03-23 10:50:50.540794: W tensorflow/core/framework/cpu_allocator_impl.cc:82] Allocation of 463219200 exceeds 10% of free system memory.\n"
     ]
    },
    {
     "name": "stdout",
     "output_type": "stream",
     "text": [
      "252/252 [==============================] - 84s 330ms/step - loss: 0.5119 - accuracy: 0.8143 - val_loss: 0.3484 - val_accuracy: 0.8951\n",
      "Epoch 2/3\n",
      "252/252 [==============================] - 84s 332ms/step - loss: 0.3890 - accuracy: 0.8737 - val_loss: 0.3452 - val_accuracy: 0.8994\n",
      "Epoch 3/3\n",
      "252/252 [==============================] - 85s 336ms/step - loss: 0.3690 - accuracy: 0.8755 - val_loss: 0.3268 - val_accuracy: 0.8985\n"
     ]
    },
    {
     "data": {
      "text/plain": [
       "<keras.callbacks.History at 0x7f6e7c463130>"
      ]
     },
     "execution_count": 13,
     "metadata": {},
     "output_type": "execute_result"
    }
   ],
   "source": [
    "image_net.fit(img_data, actions, batch_size=128, epochs=2, validation_split=0.2)"
   ]
  },
  {
   "cell_type": "code",
   "execution_count": 14,
   "metadata": {},
   "outputs": [
    {
     "name": "stderr",
     "output_type": "stream",
     "text": [
      "WARNING:absl:Found untraced functions such as _jit_compiled_convolution_op, _jit_compiled_convolution_op while saving (showing 2 of 2). These functions will not be directly callable after loading.\n"
     ]
    },
    {
     "name": "stdout",
     "output_type": "stream",
     "text": [
      "INFO:tensorflow:Assets written to: /home/fizzer/ros_ws/cnn_trainer/trained_model/assets\n"
     ]
    },
    {
     "name": "stderr",
     "output_type": "stream",
     "text": [
      "INFO:tensorflow:Assets written to: /home/fizzer/ros_ws/cnn_trainer/trained_model/assets\n"
     ]
    }
   ],
   "source": [
    "image_net.save('/home/fizzer/ros_ws/cnn_trainer/trained_model')"
   ]
  },
  {
   "cell_type": "code",
   "execution_count": 15,
   "metadata": {},
   "outputs": [
    {
     "name": "stderr",
     "output_type": "stream",
     "text": [
      "2023-03-23 10:53:53.242807: W tensorflow/core/framework/cpu_allocator_impl.cc:82] Allocation of 1620921600 exceeds 10% of free system memory.\n"
     ]
    },
    {
     "name": "stdout",
     "output_type": "stream",
     "text": [
      "880/880 [==============================] - 19s 22ms/step - loss: 0.2176 - accuracy: 0.9569\n"
     ]
    },
    {
     "data": {
      "text/plain": [
       "[0.21759997308254242, 0.9568601250648499]"
      ]
     },
     "execution_count": 15,
     "metadata": {},
     "output_type": "execute_result"
    }
   ],
   "source": [
    "straight_actions = np.array([velocities_to_actions[tuple(i)] for i in straight_vel])\n",
    "image_net.evaluate(straight_img, straight_actions)"
   ]
  },
  {
   "cell_type": "code",
   "execution_count": 16,
   "metadata": {},
   "outputs": [
    {
     "name": "stdout",
     "output_type": "stream",
     "text": [
      "  7/352 [..............................] - ETA: 7s - loss: 0.4423 - accuracy: 0.7902"
     ]
    },
    {
     "name": "stderr",
     "output_type": "stream",
     "text": [
      "2023-03-23 10:54:21.981365: W tensorflow/core/framework/cpu_allocator_impl.cc:82] Allocation of 647769600 exceeds 10% of free system memory.\n"
     ]
    },
    {
     "name": "stdout",
     "output_type": "stream",
     "text": [
      "352/352 [==============================] - 7s 21ms/step - loss: 0.4880 - accuracy: 0.7757\n"
     ]
    },
    {
     "data": {
      "text/plain": [
       "[0.48796194791793823, 0.7756535410881042]"
      ]
     },
     "execution_count": 16,
     "metadata": {},
     "output_type": "execute_result"
    }
   ],
   "source": [
    "left_actions = np.array([velocities_to_actions[tuple(i)] for i in left_vel])\n",
    "image_net.evaluate(left_img, left_actions)"
   ]
  },
  {
   "cell_type": "code",
   "execution_count": 17,
   "metadata": {},
   "outputs": [
    {
     "name": "stdout",
     "output_type": "stream",
     "text": [
      "26/26 [==============================] - 1s 21ms/step - loss: 2.2579 - accuracy: 0.0000e+00\n"
     ]
    },
    {
     "data": {
      "text/plain": [
       "[2.2579185962677, 0.0]"
      ]
     },
     "execution_count": 17,
     "metadata": {},
     "output_type": "execute_result"
    }
   ],
   "source": [
    "right_actions = np.array([velocities_to_actions[tuple(i)] for i in right_vel])\n",
    "image_net.evaluate(right_img, right_actions)"
   ]
  },
  {
   "cell_type": "code",
   "execution_count": null,
   "metadata": {},
   "outputs": [],
   "source": []
  }
 ],
 "metadata": {
  "kernelspec": {
   "display_name": "Python 3 (ipykernel)",
   "language": "python",
   "name": "python3"
  },
  "language_info": {
   "codemirror_mode": {
    "name": "ipython",
    "version": 3
   },
   "file_extension": ".py",
   "mimetype": "text/x-python",
   "name": "python",
   "nbconvert_exporter": "python",
   "pygments_lexer": "ipython3",
   "version": "3.8.10"
  }
 },
 "nbformat": 4,
 "nbformat_minor": 2
}
