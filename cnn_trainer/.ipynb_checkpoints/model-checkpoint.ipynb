{
 "cells": [
  {
   "cell_type": "code",
   "execution_count": 1,
   "metadata": {},
   "outputs": [
    {
     "name": "stderr",
     "output_type": "stream",
     "text": [
      "2023-03-23 07:49:12.904646: W tensorflow/stream_executor/platform/default/dso_loader.cc:64] Could not load dynamic library 'libcudart.so.11.0'; dlerror: libcudart.so.11.0: cannot open shared object file: No such file or directory; LD_LIBRARY_PATH: /home/fizzer/.local/lib/python3.8/site-packages/cv2/../../lib64:/opt/ros/noetic/lib\n",
      "2023-03-23 07:49:12.904664: I tensorflow/stream_executor/cuda/cudart_stub.cc:29] Ignore above cudart dlerror if you do not have a GPU set up on your machine.\n"
     ]
    }
   ],
   "source": [
    "import numpy as np\n",
    "import cv2\n",
    "import h5py\n",
    "import tensorflow as tf\n",
    "from tensorflow import keras\n",
    "from tensorflow.keras import Model\n",
    "from tensorflow.keras.layers import (\n",
    "    Input,\n",
    "    Dense,\n",
    "    Conv2D,\n",
    "    Concatenate,\n",
    "    MaxPool2D,\n",
    "    Dropout,\n",
    "    Flatten,\n",
    ")"
   ]
  },
  {
   "cell_type": "code",
   "execution_count": 2,
   "metadata": {},
   "outputs": [
    {
     "name": "stdout",
     "output_type": "stream",
     "text": [
      "(40614, 90, 160, 1)\n",
      "(40614, 2)\n"
     ]
    }
   ],
   "source": [
    "# Loading all the data\n",
    "imgs = np.load(\"/home/fizzer/ros_ws/cnn_trainer/data/imgs_0.npy\")\n",
    "vels = np.load(\"/home/fizzer/ros_ws/cnn_trainer/data/vels_0.npy\")\n",
    "print(imgs.shape)\n",
    "print(vels.shape)"
   ]
  },
  {
   "cell_type": "code",
   "execution_count": 3,
   "metadata": {},
   "outputs": [
    {
     "name": "stdout",
     "output_type": "stream",
     "text": [
      "(40614, 90, 160, 1)\n",
      "(40614, 2)\n"
     ]
    }
   ],
   "source": [
    "# remove all data where the robot is not moving forward\n",
    "not_moving_fwd_idx = np.where(vels[:, 0] == 0.0)[0]\n",
    "img_data = np.delete(imgs, not_moving_fwd_idx, axis=0)\n",
    "vel_data = np.delete(vels, not_moving_fwd_idx, axis=0)\n",
    "\n",
    "print(imgs.shape)\n",
    "print(vels.shape)"
   ]
  },
  {
   "cell_type": "code",
   "execution_count": 4,
   "metadata": {},
   "outputs": [
    {
     "name": "stdout",
     "output_type": "stream",
     "text": [
      "starting data normalization\n",
      "finished normalizing data\n"
     ]
    }
   ],
   "source": [
    "print(\"starting data normalization\")\n",
    "img_data = img_data / 255\n",
    "print(\"finished normalizing data\")"
   ]
  },
  {
   "cell_type": "code",
   "execution_count": 5,
   "metadata": {},
   "outputs": [],
   "source": [
    "# shift\n",
    "shift = 5\n",
    "\n",
    "img_data = img_data[:-shift]\n",
    "vel_data = vel_data[shift:]"
   ]
  },
  {
   "cell_type": "code",
   "execution_count": 6,
   "metadata": {},
   "outputs": [],
   "source": [
    "velocities_to_actions = {\n",
    "    (0.25, 0.0): np.array([1, 0, 0]),\n",
    "    (0.25, 1.0): np.array([0, 1, 0]),\n",
    "    (0.25, -1.0): np.array([0, 0, 1]),\n",
    "}\n",
    "\n",
    "actions = np.array([velocities_to_actions[tuple(i)] for i in vel_data])"
   ]
  },
  {
   "cell_type": "code",
   "execution_count": 7,
   "metadata": {},
   "outputs": [
    {
     "name": "stdout",
     "output_type": "stream",
     "text": [
      "Model: \"model\"\n",
      "_________________________________________________________________\n",
      " Layer (type)                Output Shape              Param #   \n",
      "=================================================================\n",
      " input_1 (InputLayer)        [(None, 90, 160, 1)]      0         \n",
      "                                                                 \n",
      " conv2d (Conv2D)             (None, 90, 160, 64)       1088      \n",
      "                                                                 \n",
      " max_pooling2d (MaxPooling2D  (None, 22, 40, 64)       0         \n",
      " )                                                               \n",
      "                                                                 \n",
      " conv2d_1 (Conv2D)           (None, 22, 40, 32)        32800     \n",
      "                                                                 \n",
      " max_pooling2d_1 (MaxPooling  (None, 11, 20, 32)       0         \n",
      " 2D)                                                             \n",
      "                                                                 \n",
      " dropout (Dropout)           (None, 11, 20, 32)        0         \n",
      "                                                                 \n",
      " flatten (Flatten)           (None, 7040)              0         \n",
      "                                                                 \n",
      " dense (Dense)               (None, 128)               901248    \n",
      "                                                                 \n",
      " dropout_1 (Dropout)         (None, 128)               0         \n",
      "                                                                 \n",
      " dense_1 (Dense)             (None, 64)                8256      \n",
      "                                                                 \n",
      " dropout_2 (Dropout)         (None, 64)                0         \n",
      "                                                                 \n",
      " dense_2 (Dense)             (None, 32)                2080      \n",
      "                                                                 \n",
      " dropout_3 (Dropout)         (None, 32)                0         \n",
      "                                                                 \n",
      " dense_3 (Dense)             (None, 16)                528       \n",
      "                                                                 \n",
      " dense_4 (Dense)             (None, 3)                 51        \n",
      "                                                                 \n",
      "=================================================================\n",
      "Total params: 946,051\n",
      "Trainable params: 946,051\n",
      "Non-trainable params: 0\n",
      "_________________________________________________________________\n"
     ]
    },
    {
     "name": "stderr",
     "output_type": "stream",
     "text": [
      "2023-03-23 07:49:29.824260: W tensorflow/stream_executor/platform/default/dso_loader.cc:64] Could not load dynamic library 'libcuda.so.1'; dlerror: libcuda.so.1: cannot open shared object file: No such file or directory; LD_LIBRARY_PATH: /home/fizzer/.local/lib/python3.8/site-packages/cv2/../../lib64:/opt/ros/noetic/lib\n",
      "2023-03-23 07:49:29.824282: W tensorflow/stream_executor/cuda/cuda_driver.cc:269] failed call to cuInit: UNKNOWN ERROR (303)\n",
      "2023-03-23 07:49:29.824299: I tensorflow/stream_executor/cuda/cuda_diagnostics.cc:156] kernel driver does not appear to be running on this host (skynet): /proc/driver/nvidia/version does not exist\n",
      "2023-03-23 07:49:29.825485: I tensorflow/core/platform/cpu_feature_guard.cc:193] This TensorFlow binary is optimized with oneAPI Deep Neural Network Library (oneDNN) to use the following CPU instructions in performance-critical operations:  AVX2 FMA\n",
      "To enable them in other operations, rebuild TensorFlow with the appropriate compiler flags.\n"
     ]
    }
   ],
   "source": [
    "input_image = Input(shape=(90, 160, 1))\n",
    "output_image = Conv2D(64, 4, padding=\"same\")(input_image)\n",
    "output_image = MaxPool2D(4)(output_image)\n",
    "\n",
    "output_image = Conv2D(32, 4, padding=\"same\")(output_image)\n",
    "output_image = MaxPool2D(2)(output_image)\n",
    "output_image = Dropout(0.5)(output_image)\n",
    "\n",
    "# output_image = Conv2D(16, 4, padding=\"same\")(output_image)\n",
    "# output_image = MaxPool2D(2)(output_image)\n",
    "# output_image = Dropout(0.5)(output_image)\n",
    "\n",
    "# output_image = Conv2D(16, 4, padding=\"same\")(output_image)\n",
    "# output_image = MaxPool2D(2)(output_image)\n",
    "# output_image = Dropout(0.5)(output_image)\n",
    "\n",
    "output_image = Flatten()(output_image)\n",
    "\n",
    "output_image = Dense(128, activation=\"relu\")(output_image)\n",
    "output_image = Dropout(0.5)(output_image)\n",
    "\n",
    "output_image = Dense(64, activation=\"relu\")(output_image)\n",
    "output_image = Dropout(0.5)(output_image)\n",
    "\n",
    "output_image = Dense(32, activation=\"relu\")(output_image)\n",
    "output_image = Dropout(0.5)(output_image)\n",
    "\n",
    "output_image = Dense(16, activation=\"relu\")(output_image)\n",
    "\n",
    "output_image = Dense(3, activation=\"softmax\")(output_image)\n",
    "\n",
    "\n",
    "image_net = Model(input_image, output_image)\n",
    "image_net.summary()\n",
    "image_net.compile(\n",
    "    optimizer=\"adam\", loss=\"categorical_crossentropy\", metrics=[\"accuracy\"]\n",
    ")"
   ]
  },
  {
   "cell_type": "code",
   "execution_count": 8,
   "metadata": {},
   "outputs": [
    {
     "name": "stderr",
     "output_type": "stream",
     "text": [
      "2023-03-23 07:49:30.452767: W tensorflow/core/framework/cpu_allocator_impl.cc:82] Allocation of 1852876800 exceeds 10% of free system memory.\n"
     ]
    },
    {
     "name": "stdout",
     "output_type": "stream",
     "text": [
      "Epoch 1/2\n",
      "503/503 [==============================] - 213s 422ms/step - loss: 0.5376 - accuracy: 0.8099 - val_loss: 0.3681 - val_accuracy: 0.8980\n",
      "Epoch 2/2\n",
      "503/503 [==============================] - 223s 443ms/step - loss: 0.4055 - accuracy: 0.8709 - val_loss: 0.3581 - val_accuracy: 0.8993\n"
     ]
    },
    {
     "data": {
      "text/plain": [
       "<keras.callbacks.History at 0x7fbf3c7cf0a0>"
      ]
     },
     "execution_count": 8,
     "metadata": {},
     "output_type": "execute_result"
    }
   ],
   "source": [
    "image_net.fit(img_data, actions, batch_size=64, epochs=2, validation_split=0.2)"
   ]
  },
  {
   "cell_type": "code",
   "execution_count": null,
   "metadata": {},
   "outputs": [],
   "source": [
    "image_net.save('/home/fizzer/ros_ws/cnn_trainer/trained_model')"
   ]
  },
  {
   "cell_type": "code",
   "execution_count": null,
   "metadata": {},
   "outputs": [
    {
     "name": "stdout",
     "output_type": "stream",
     "text": [
      "(28141, 90, 160, 1)\n",
      "(11246, 90, 160, 1)\n",
      "(823, 90, 160, 1)\n"
     ]
    }
   ],
   "source": [
    "straight = np.where(vel_data[:, 1] == 0.0)[0]\n",
    "left = np.where(vel_data[:, 1] == 1.0)[0]\n",
    "right = np.where(vel_data[:, 1] == -1.0)[0]\n",
    "\n",
    "straight_img = img_data[straight]\n",
    "left_img = img_data[left]\n",
    "right_img = img_data[right]\n",
    "\n",
    "straight_vel = vel_data[straight]\n",
    "left_vel = vel_data[left]\n",
    "right_vel = vel_data[right]\n",
    "\n",
    "print(straight_img.shape)\n",
    "print(left_img.shape)\n",
    "print(right_img.shape)"
   ]
  },
  {
   "cell_type": "code",
   "execution_count": null,
   "metadata": {},
   "outputs": [],
   "source": [
    "image_net.evaluate(straight_img, straight_vel)"
   ]
  },
  {
   "cell_type": "code",
   "execution_count": null,
   "metadata": {},
   "outputs": [],
   "source": [
    "image_net.evaluate(left_img, left_vel)"
   ]
  },
  {
   "cell_type": "code",
   "execution_count": null,
   "metadata": {},
   "outputs": [],
   "source": [
    "image_net.evaluate(right_img, right_vel)"
   ]
  }
 ],
 "metadata": {
  "kernelspec": {
   "display_name": "Python 3 (ipykernel)",
   "language": "python",
   "name": "python3"
  },
  "language_info": {
   "codemirror_mode": {
    "name": "ipython",
    "version": 3
   },
   "file_extension": ".py",
   "mimetype": "text/x-python",
   "name": "python",
   "nbconvert_exporter": "python",
   "pygments_lexer": "ipython3",
   "version": "3.8.10"
  }
 },
 "nbformat": 4,
 "nbformat_minor": 2
}
