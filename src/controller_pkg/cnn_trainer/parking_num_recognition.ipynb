{
 "cells": [
  {
   "cell_type": "code",
   "execution_count": 37,
   "id": "5816d6f8",
   "metadata": {},
   "outputs": [],
   "source": [
    "import numpy as np\n",
    "import cv2\n",
    "import h5py\n",
    "\n",
    "\n",
    "from tensorflow.keras import layers\n",
    "from tensorflow.keras import models\n",
    "from tensorflow.keras import optimizers\n",
    "\n",
    "from tensorflow.keras.utils import plot_model\n",
    "from tensorflow.keras import backend\n",
    "import tensorflow as tf\n",
    "\n",
    "\n",
    "import string\n",
    "import matplotlib.pyplot as plt"
   ]
  },
  {
   "cell_type": "code",
   "execution_count": 38,
   "id": "a351864a",
   "metadata": {},
   "outputs": [
    {
     "name": "stdout",
     "output_type": "stream",
     "text": [
      "(4000, 150, 100)\n",
      "(4000,)\n"
     ]
    }
   ],
   "source": [
    "raw_imgs = np.load('/home/fizzer/ros_ws/src/controller_pkg/cnn_trainer/plates/pnum_imgs.npy')\n",
    "raw_labels = np.load('/home/fizzer/ros_ws/src/controller_pkg/cnn_trainer/plates/pnum_labels.npy')\n",
    "print(raw_imgs.shape)\n",
    "print(raw_labels.shape)"
   ]
  },
  {
   "cell_type": "code",
   "execution_count": 39,
   "id": "aa7e378f",
   "metadata": {},
   "outputs": [
    {
     "name": "stdout",
     "output_type": "stream",
     "text": [
      "6\n",
      "(150, 100)\n"
     ]
    },
    {
     "data": {
      "text/plain": [
       "<matplotlib.image.AxesImage at 0x7fe023a48460>"
      ]
     },
     "execution_count": 39,
     "metadata": {},
     "output_type": "execute_result"
    },
    {
     "data": {
      "image/png": "[encoded data removed]",
      "text/plain": [
       "<Figure size 640x480 with 1 Axes>"
      ]
     },
     "metadata": {},
     "output_type": "display_data"
    }
   ],
   "source": [
    "p = np.random.permutation(raw_imgs.shape[0])\n",
    "raw_imgs=raw_imgs[p]\n",
    "raw_labels=raw_labels[p]\n",
    "print(raw_labels[10])\n",
    "print(raw_imgs[10].shape)\n",
    "plt.imshow(raw_imgs[10], cmap='gray')"
   ]
  },
  {
   "cell_type": "code",
   "execution_count": 40,
   "id": "0e862ac6",
   "metadata": {},
   "outputs": [
    {
     "name": "stdout",
     "output_type": "stream",
     "text": [
      "(4000, 150, 100, 1)\n",
      "(4000,)\n"
     ]
    }
   ],
   "source": [
    "labels_to_int=dict(zip([1,2,3,4,5,6,7,8],[0,1,2,3,4,5,6,7]))\n",
    "int_to_labels=dict(zip([0,1,2,3,4,5,6,7],[1,2,3,4,5,6,7,8]))\n",
    "imgs=raw_imgs[...,np.newaxis]/255\n",
    "labels = np.array([labels_to_int[l] for l in raw_labels])\n",
    "print(imgs.shape)\n",
    "print(labels.shape)"
   ]
  },
  {
   "cell_type": "code",
   "execution_count": 41,
   "id": "96a385db",
   "metadata": {},
   "outputs": [
    {
     "name": "stdout",
     "output_type": "stream",
     "text": [
      "Model: \"sequential_5\"\n",
      "_________________________________________________________________\n",
      " Layer (type)                Output Shape              Param #   \n",
      "=================================================================\n",
      " conv2d_6 (Conv2D)           (None, 36, 24, 2)         130       \n",
      "                                                                 \n",
      " max_pooling2d_6 (MaxPooling  (None, 9, 6, 2)          0         \n",
      " 2D)                                                             \n",
      "                                                                 \n",
      " dropout_10 (Dropout)        (None, 9, 6, 2)           0         \n",
      "                                                                 \n",
      " flatten_5 (Flatten)         (None, 108)               0         \n",
      "                                                                 \n",
      " dropout_11 (Dropout)        (None, 108)               0         \n",
      "                                                                 \n",
      " dense_7 (Dense)             (None, 64)                6976      \n",
      "                                                                 \n",
      " dense_8 (Dense)             (None, 8)                 520       \n",
      "                                                                 \n",
      "=================================================================\n",
      "Total params: 7,626\n",
      "Trainable params: 7,626\n",
      "Non-trainable params: 0\n",
      "_________________________________________________________________\n"
     ]
    }
   ],
   "source": [
    "# Commented out a bunch of the layers because our model can be much simpler.\n",
    "\n",
    "conv_model = models.Sequential()\n",
    "conv_model.add(layers.Conv2D(2, (8, 8), strides=4,activation='relu',\n",
    "                             input_shape=(150, 100,1)))\n",
    "conv_model.add(layers.MaxPooling2D((4, 4)))\n",
    "conv_model.add(layers.Dropout(0.5))\n",
    "# conv_model.add(layers.Conv2D(16, (3, 3), activation='relu'))\n",
    "# conv_model.add(layers.MaxPooling2D((4, 4)))\n",
    "# conv_model.add(layers.Dropout(0.5))\n",
    "# conv_model.add(layrs.Conv2D(128, (3, 3), activation='relu'))\n",
    "# conv_model.add(layers.MaxPooling2D((2, 2)))\n",
    "# conv_model.add(layers.Conv2D(128, (3, 3), activation='relu'))\n",
    "# conv_model.add(layers.MaxPooling2D((2, 2)))\n",
    "conv_model.add(layers.Flatten())\n",
    "conv_model.add(layers.Dropout(0.5))\n",
    "conv_model.add(layers.Dense(64, activation='relu'))\n",
    "conv_model.add(layers.Dense(8, activation='softmax'))\n",
    "\n",
    "conv_model.summary()"
   ]
  },
  {
   "cell_type": "code",
   "execution_count": 42,
   "id": "194d32ea",
   "metadata": {},
   "outputs": [],
   "source": [
    "# Used sparse categorical crossentropy so because it automatically performs one-hot-encoding\n",
    "# So that we don't have to do it ourselves.\n",
    "\n",
    "LEARNING_RATE = 1e-4\n",
    "conv_model.compile(loss='sparse_categorical_crossentropy',\n",
    "                   optimizer=optimizers.RMSprop(learning_rate=LEARNING_RATE),\n",
    "                   metrics=['acc'])"
   ]
  },
  {
   "cell_type": "code",
   "execution_count": 43,
   "id": "7a26316d",
   "metadata": {},
   "outputs": [
    {
     "name": "stdout",
     "output_type": "stream",
     "text": [
      "Epoch 1/10\n",
      "800/800 [==============================] - 2s 2ms/step - loss: 2.0689 - acc: 0.1741 - val_loss: 1.9948 - val_acc: 0.3825\n",
      "Epoch 2/10\n",
      "800/800 [==============================] - 1s 2ms/step - loss: 1.9381 - acc: 0.2891 - val_loss: 1.7964 - val_acc: 0.6850\n",
      "Epoch 3/10\n",
      "800/800 [==============================] - 1s 2ms/step - loss: 1.7063 - acc: 0.4197 - val_loss: 1.3912 - val_acc: 0.8537\n",
      "Epoch 4/10\n",
      "800/800 [==============================] - 1s 2ms/step - loss: 1.3671 - acc: 0.5834 - val_loss: 0.9136 - val_acc: 0.9162\n",
      "Epoch 5/10\n",
      "800/800 [==============================] - 1s 2ms/step - loss: 1.0682 - acc: 0.6612 - val_loss: 0.5599 - val_acc: 0.9950\n",
      "Epoch 6/10\n",
      "800/800 [==============================] - 1s 2ms/step - loss: 0.8379 - acc: 0.7259 - val_loss: 0.3522 - val_acc: 0.9987\n",
      "Epoch 7/10\n",
      "800/800 [==============================] - 1s 2ms/step - loss: 0.6744 - acc: 0.7966 - val_loss: 0.2337 - val_acc: 1.0000\n",
      "Epoch 8/10\n",
      "800/800 [==============================] - 1s 2ms/step - loss: 0.5610 - acc: 0.8087 - val_loss: 0.1648 - val_acc: 1.0000\n",
      "Epoch 9/10\n",
      "800/800 [==============================] - 1s 2ms/step - loss: 0.4755 - acc: 0.8491 - val_loss: 0.1114 - val_acc: 1.0000\n",
      "Epoch 10/10\n",
      "800/800 [==============================] - 1s 2ms/step - loss: 0.4337 - acc: 0.8500 - val_loss: 0.0899 - val_acc: 1.0000\n"
     ]
    }
   ],
   "source": [
    "history_conv = conv_model.fit(imgs, labels, \n",
    "                              validation_split=0.2, \n",
    "                              epochs=10, \n",
    "                              batch_size=4)"
   ]
  },
  {
   "cell_type": "code",
   "execution_count": 27,
   "id": "a009d22a",
   "metadata": {},
   "outputs": [],
   "source": [
    "pnums = np.load('/home/fizzer/ros_ws/src/controller_pkg/cnn_trainer/plates/pnums.npy', allow_pickle=True)"
   ]
  },
  {
   "cell_type": "code",
   "execution_count": 44,
   "id": "24374499",
   "metadata": {},
   "outputs": [
    {
     "data": {
      "text/plain": [
       "<matplotlib.image.AxesImage at 0x7fdf91998370>"
      ]
     },
     "execution_count": 44,
     "metadata": {},
     "output_type": "execute_result"
    },
    {
     "data": {
      "image/png": "[encoded data removed]",
      "text/plain": [
       "<Figure size 640x480 with 1 Axes>"
      ]
     },
     "metadata": {},
     "output_type": "display_data"
    }
   ],
   "source": [
    "one = cv2.imread('/home/fizzer/Pictures/one.png')\n",
    "one.shape\n",
    "plt.imshow(one)"
   ]
  },
  {
   "cell_type": "code",
   "execution_count": 45,
   "id": "4eea4eb8",
   "metadata": {},
   "outputs": [
    {
     "name": "stdout",
     "output_type": "stream",
     "text": [
      "tf.Tensor(\n",
      "[[0.764184   0.00802393 0.0040913  0.16449252 0.01012762 0.01596222\n",
      "  0.03143573 0.00168265]], shape=(1, 8), dtype=float32)\n",
      "1\n"
     ]
    }
   ],
   "source": [
    "one=cv2.cvtColor(one, cv2.COLOR_BGR2GRAY)[...,np.newaxis][np.newaxis,...]/255\n",
    "prob = conv_model(one)\n",
    "print(prob)\n",
    "print(int_to_labels[np.argmax(prob)])"
   ]
  },
  {
   "cell_type": "code",
   "execution_count": 46,
   "id": "e8c2d950",
   "metadata": {},
   "outputs": [
    {
     "name": "stderr",
     "output_type": "stream",
     "text": [
      "WARNING:absl:Found untraced functions such as _jit_compiled_convolution_op while saving (showing 1 of 1). These functions will not be directly callable after loading.\n"
     ]
    },
    {
     "name": "stdout",
     "output_type": "stream",
     "text": [
      "INFO:tensorflow:Assets written to: /home/fizzer/ros_ws/src/controller_pkg/cnn_trainer/pnums_model/assets\n"
     ]
    },
    {
     "name": "stderr",
     "output_type": "stream",
     "text": [
      "INFO:tensorflow:Assets written to: /home/fizzer/ros_ws/src/controller_pkg/cnn_trainer/pnums_model/assets\n"
     ]
    }
   ],
   "source": [
    "conv_model.save('/home/fizzer/ros_ws/src/controller_pkg/cnn_trainer/pnums_model')"
   ]
  }
 ],
 "metadata": {
  "kernelspec": {
   "display_name": "Python 3 (ipykernel)",
   "language": "python",
   "name": "python3"
  },
  "language_info": {
   "codemirror_mode": {
    "name": "ipython",
    "version": 3
   },
   "file_extension": ".py",
   "mimetype": "text/x-python",
   "name": "python",
   "nbconvert_exporter": "python",
   "pygments_lexer": "ipython3",
   "version": "3.8.10"
  }
 },
 "nbformat": 4,
 "nbformat_minor": 5
}
