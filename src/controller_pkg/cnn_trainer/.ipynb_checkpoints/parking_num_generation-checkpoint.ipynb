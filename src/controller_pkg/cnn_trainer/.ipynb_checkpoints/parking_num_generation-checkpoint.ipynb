{
 "cells": [
  {
   "cell_type": "code",
   "execution_count": 1,
   "id": "53601ef3",
   "metadata": {},
   "outputs": [],
   "source": [
    "import numpy as np\n",
    "import cv2\n",
    "import matplotlib.pyplot as plt\n",
    "import random\n",
    "from random import randint\n",
    "from PIL import Image, ImageFont, ImageDraw\n",
    "import string"
   ]
  },
  {
   "cell_type": "code",
   "execution_count": 2,
   "id": "a28c6b87",
   "metadata": {},
   "outputs": [],
   "source": [
    "from skimage.util import random_noise\n",
    "from skimage.io import imsave\n",
    "from skimage.transform import resize"
   ]
  },
  {
   "cell_type": "code",
   "execution_count": 68,
   "id": "1ac1cb8b",
   "metadata": {},
   "outputs": [],
   "source": [
    "def generate_noisy_symbol(num):\n",
    "    #img = cv2.imread('/home/fizzer/ros_ws/src/2022_competition/enph353/enph353_gazebo/scripts/blank_plate.png')\n",
    "    #img=img[50:350,:]\n",
    "    #img = img[100:250, 5:105]\n",
    "\n",
    "    rows=150\n",
    "    cols=100\n",
    "    font_size = 200\n",
    "    \n",
    "    OVERLAY = random.randint(-150,0)\n",
    "    TB=random.randint(0,50)\n",
    "    TG=random.randint(0,50)\n",
    "    TR=random.randint(0,50)\n",
    "    \n",
    "    TX=random.randint(-1,1)\n",
    "    TY=random.randint(-31,-29)\n",
    "    \n",
    "    CENTER=(random.randint(24,26),random.randint(24,26))\n",
    "    AXES=(random.randint(0,10),0)\n",
    "    ANGLE = random.randint(0,360)\n",
    "    \n",
    "    GKERNEL = random.randint(5,25)\n",
    "    if GKERNEL%2==0:\n",
    "        GKERNEL+=1\n",
    "\n",
    "\n",
    "    s = str(num)\n",
    "    parking_spot = 255 * np.ones(shape=[375, 250, 3], dtype=np.uint8)\n",
    "    img = cv2.putText(parking_spot,s,(-5, 325),cv2.FONT_HERSHEY_PLAIN,28,(TB, TG, TR),30,cv2.LINE_AA,)\n",
    "    img = cv2.resize(img, [100,150])\n",
    "    \n",
    "    overlay=np.full((rows,cols,3), OVERLAY)\n",
    "    img=np.clip(img+overlay,0,255).astype('uint8')\n",
    "    #return img\n",
    "    \n",
    "    \n",
    "\n",
    "    noise = np.zeros((rows//2,cols//2,3))\n",
    "    noise = random_noise(noise,mode='gaussian',var=12312321)\n",
    "    noise = resize(noise, (rows, cols))\n",
    "    img=np.clip(img+(img*noise),0,255).astype('uint8')\n",
    "\n",
    "\n",
    "    # randomize all these numbers for motion blur\n",
    "    psf = np.zeros((50, 50, 3))\n",
    "    psf = cv2.ellipse(psf, \n",
    "                  CENTER, # center\n",
    "                  AXES, # axes -- 22 for blur length, 0 for thin PSF \n",
    "                  ANGLE, # angle of motion in degrees\n",
    "                  0, 360, # ful ellipse, not an arc\n",
    "                  (1, 1, 1), # white color\n",
    "                  thickness=-1) # filled\n",
    "\n",
    "    psf /= psf[:,:,0].sum() # normalize by sum of one channel \n",
    "                            # since channels are processed independently\n",
    "\n",
    "    img = cv2.filter2D(img, -1, psf)\n",
    "\n",
    "    # vary gaussian blur slightly\n",
    "    img=cv2.GaussianBlur(img, (GKERNEL,GKERNEL),0)\n",
    "\n",
    "\n",
    "    img=cv2.cvtColor(img, cv2.COLOR_BGR2GRAY)\n",
    "    \n",
    "    return img"
   ]
  },
  {
   "cell_type": "code",
   "execution_count": 69,
   "id": "d146e528",
   "metadata": {},
   "outputs": [],
   "source": [
    "# img = generate_noisy_symbol(4)\n",
    "# cv2.imshow(\"win\", img)\n",
    "# cv2.waitKey(0)\n",
    "# cv2.destroyAllWindows()"
   ]
  },
  {
   "cell_type": "code",
   "execution_count": 71,
   "id": "73a2e6bb",
   "metadata": {},
   "outputs": [],
   "source": [
    "def generate_data(num):\n",
    "\n",
    "    imgs = []\n",
    "    labels=[]\n",
    "    NUM=num\n",
    "            \n",
    "    for d in range(1,9):\n",
    "        print('starting digit ',d)\n",
    "        for i in range(NUM):\n",
    "            imgs.append(generate_noisy_symbol(d))\n",
    "            labels.append(d)\n",
    "            if i%10==0:\n",
    "                print(i, end='\\r')\n",
    "        print('finished digit ',d)\n",
    "            \n",
    "    return imgs, labels"
   ]
  },
  {
   "cell_type": "code",
   "execution_count": 72,
   "id": "2489e69e",
   "metadata": {
    "scrolled": true
   },
   "outputs": [
    {
     "name": "stdout",
     "output_type": "stream",
     "text": [
      "starting digit  0\n",
      "finished digit  0\n",
      "starting digit  1\n",
      "finished digit  1\n",
      "starting digit  2\n",
      "finished digit  2\n",
      "starting digit  3\n",
      "finished digit  3\n",
      "starting digit  4\n",
      "finished digit  4\n",
      "starting digit  5\n",
      "finished digit  5\n",
      "starting digit  6\n",
      "finished digit  6\n",
      "starting digit  7\n",
      "finished digit  7\n",
      "starting digit  8\n",
      "finished digit  8\n",
      "starting digit  9\n",
      "finished digit  9\n"
     ]
    }
   ],
   "source": [
    "NUM=1000\n",
    "imgs, labels = generate_data(NUM)"
   ]
  },
  {
   "cell_type": "code",
   "execution_count": 73,
   "id": "71541abb",
   "metadata": {},
   "outputs": [
    {
     "data": {
      "text/plain": [
       "<matplotlib.image.AxesImage at 0x7f2a592cc7f0>"
      ]
     },
     "execution_count": 73,
     "metadata": {},
     "output_type": "execute_result"
    },
    {
     "data": {
      "image/png": "[encoded data removed]",
      "text/plain": [
       "<Figure size 640x480 with 1 Axes>"
      ]
     },
     "metadata": {},
     "output_type": "display_data"
    }
   ],
   "source": [
    "plt.imshow(imgs[1020], cmap='gray')"
   ]
  },
  {
   "cell_type": "code",
   "execution_count": 74,
   "id": "60cff2eb",
   "metadata": {},
   "outputs": [],
   "source": [
    "np.save('/home/fizzer/ros_ws/src/controller_pkg/cnn_trainer/plates/pnum_imgs.npy',imgs)"
   ]
  },
  {
   "cell_type": "code",
   "execution_count": 75,
   "id": "1adc8b3a",
   "metadata": {},
   "outputs": [],
   "source": [
    "np.save('/home/fizzer/ros_ws/src/controller_pkg/cnn_trainer/plates/pnum_labels.npy',labels)"
   ]
  },
  {
   "cell_type": "code",
   "execution_count": null,
   "id": "a90eb01d",
   "metadata": {},
   "outputs": [],
   "source": []
  }
 ],
 "metadata": {
  "kernelspec": {
   "display_name": "Python 3 (ipykernel)",
   "language": "python",
   "name": "python3"
  },
  "language_info": {
   "codemirror_mode": {
    "name": "ipython",
    "version": 3
   },
   "file_extension": ".py",
   "mimetype": "text/x-python",
   "name": "python",
   "nbconvert_exporter": "python",
   "pygments_lexer": "ipython3",
   "version": "3.8.10"
  }
 },
 "nbformat": 4,
 "nbformat_minor": 5
}
