{
 "cells": [
  {
   "cell_type": "code",
   "execution_count": 1,
   "id": "5816d6f8",
   "metadata": {},
   "outputs": [
    {
     "name": "stderr",
     "output_type": "stream",
     "text": [
      "2023-04-09 14:54:32.672302: W tensorflow/stream_executor/platform/default/dso_loader.cc:64] Could not load dynamic library 'libcudart.so.11.0'; dlerror: libcudart.so.11.0: cannot open shared object file: No such file or directory; LD_LIBRARY_PATH: /home/fizzer/.local/lib/python3.8/site-packages/cv2/../../lib64:/opt/ros/noetic/lib\n",
      "2023-04-09 14:54:32.672317: I tensorflow/stream_executor/cuda/cudart_stub.cc:29] Ignore above cudart dlerror if you do not have a GPU set up on your machine.\n"
     ]
    }
   ],
   "source": [
    "import numpy as np\n",
    "import cv2\n",
    "import h5py\n",
    "\n",
    "\n",
    "from tensorflow.keras import layers\n",
    "from tensorflow.keras import models\n",
    "from tensorflow.keras import optimizers\n",
    "\n",
    "from tensorflow.keras.utils import plot_model\n",
    "from tensorflow.keras import backend\n",
    "import tensorflow as tf\n",
    "\n",
    "\n",
    "import string\n",
    "import matplotlib.pyplot as plt"
   ]
  },
  {
   "cell_type": "code",
   "execution_count": 2,
   "id": "a351864a",
   "metadata": {},
   "outputs": [
    {
     "name": "stdout",
     "output_type": "stream",
     "text": [
      "(10000, 150, 100)\n",
      "(10000,)\n"
     ]
    }
   ],
   "source": [
    "raw_imgs = np.load('/home/fizzer/ros_ws/src/controller_pkg/cnn_trainer/plates/pnum_imgs.npy')\n",
    "raw_labels = np.load('/home/fizzer/ros_ws/src/controller_pkg/cnn_trainer/plates/pnum_labels.npy')\n",
    "print(raw_imgs.shape)\n",
    "print(raw_labels.shape)"
   ]
  },
  {
   "cell_type": "code",
   "execution_count": 3,
   "id": "aa7e378f",
   "metadata": {},
   "outputs": [
    {
     "name": "stdout",
     "output_type": "stream",
     "text": [
      "6\n",
      "(150, 100)\n"
     ]
    },
    {
     "data": {
      "text/plain": [
       "<matplotlib.image.AxesImage at 0x7f4ee30d33d0>"
      ]
     },
     "execution_count": 3,
     "metadata": {},
     "output_type": "execute_result"
    },
    {
     "data": {
      "image/png": "[encoded data removed]",
      "text/plain": [
       "<Figure size 640x480 with 1 Axes>"
      ]
     },
     "metadata": {},
     "output_type": "display_data"
    }
   ],
   "source": [
    "p = np.random.permutation(raw_imgs.shape[0])\n",
    "raw_imgs=raw_imgs[p]\n",
    "raw_labels=raw_labels[p]\n",
    "print(raw_labels[10])\n",
    "print(raw_imgs[10].shape)\n",
    "plt.imshow(raw_imgs[10], cmap='gray')"
   ]
  },
  {
   "cell_type": "code",
   "execution_count": 4,
   "id": "0e862ac6",
   "metadata": {},
   "outputs": [
    {
     "name": "stdout",
     "output_type": "stream",
     "text": [
      "(10000, 150, 100, 1)\n",
      "(10000,)\n"
     ]
    }
   ],
   "source": [
    "imgs=raw_imgs[...,np.newaxis]/255\n",
    "labels = raw_labels\n",
    "print(imgs.shape)\n",
    "print(labels.shape)"
   ]
  },
  {
   "cell_type": "code",
   "execution_count": 5,
   "id": "96a385db",
   "metadata": {},
   "outputs": [
    {
     "name": "stdout",
     "output_type": "stream",
     "text": [
      "Model: \"sequential\"\n",
      "_________________________________________________________________\n",
      " Layer (type)                Output Shape              Param #   \n",
      "=================================================================\n",
      " conv2d (Conv2D)             (None, 36, 24, 2)         130       \n",
      "                                                                 \n",
      " max_pooling2d (MaxPooling2D  (None, 9, 6, 2)          0         \n",
      " )                                                               \n",
      "                                                                 \n",
      " flatten (Flatten)           (None, 108)               0         \n",
      "                                                                 \n",
      " dropout (Dropout)           (None, 108)               0         \n",
      "                                                                 \n",
      " dense (Dense)               (None, 10)                1090      \n",
      "                                                                 \n",
      "=================================================================\n",
      "Total params: 1,220\n",
      "Trainable params: 1,220\n",
      "Non-trainable params: 0\n",
      "_________________________________________________________________\n"
     ]
    },
    {
     "name": "stderr",
     "output_type": "stream",
     "text": [
      "2023-04-09 14:54:44.008295: W tensorflow/stream_executor/platform/default/dso_loader.cc:64] Could not load dynamic library 'libcuda.so.1'; dlerror: libcuda.so.1: cannot open shared object file: No such file or directory; LD_LIBRARY_PATH: /home/fizzer/.local/lib/python3.8/site-packages/cv2/../../lib64:/opt/ros/noetic/lib\n",
      "2023-04-09 14:54:44.008329: W tensorflow/stream_executor/cuda/cuda_driver.cc:269] failed call to cuInit: UNKNOWN ERROR (303)\n",
      "2023-04-09 14:54:44.008352: I tensorflow/stream_executor/cuda/cuda_diagnostics.cc:156] kernel driver does not appear to be running on this host (skynet): /proc/driver/nvidia/version does not exist\n",
      "2023-04-09 14:54:44.008807: I tensorflow/core/platform/cpu_feature_guard.cc:193] This TensorFlow binary is optimized with oneAPI Deep Neural Network Library (oneDNN) to use the following CPU instructions in performance-critical operations:  AVX2 FMA\n",
      "To enable them in other operations, rebuild TensorFlow with the appropriate compiler flags.\n"
     ]
    }
   ],
   "source": [
    "# Commented out a bunch of the layers because our model can be much simpler.\n",
    "\n",
    "conv_model = models.Sequential()\n",
    "conv_model.add(layers.Conv2D(2, (8, 8), strides=4,activation='relu',\n",
    "                             input_shape=(150, 100,1)))\n",
    "conv_model.add(layers.MaxPooling2D((4, 4)))\n",
    "# conv_model.add(layers.Conv2D(16, (3, 3), activation='relu'))\n",
    "# conv_model.add(layers.MaxPooling2D((4, 4)))\n",
    "# conv_model.add(layrs.Conv2D(128, (3, 3), activation='relu'))\n",
    "# conv_model.add(layers.MaxPooling2D((2, 2)))\n",
    "# conv_model.add(layers.Conv2D(128, (3, 3), activation='relu'))\n",
    "# conv_model.add(layers.MaxPooling2D((2, 2)))\n",
    "conv_model.add(layers.Flatten())\n",
    "conv_model.add(layers.Dropout(0.5))\n",
    "# conv_model.add(layers.Dense(64, activation='relu'))\n",
    "conv_model.add(layers.Dense(8, activation='softmax'))\n",
    "\n",
    "conv_model.summary()"
   ]
  },
  {
   "cell_type": "code",
   "execution_count": 6,
   "id": "194d32ea",
   "metadata": {},
   "outputs": [],
   "source": [
    "# Used sparse categorical crossentropy so because it automatically performs one-hot-encoding\n",
    "# So that we don't have to do it ourselves.\n",
    "\n",
    "LEARNING_RATE = 1e-4\n",
    "conv_model.compile(loss='sparse_categorical_crossentropy',\n",
    "                   optimizer=optimizers.RMSprop(learning_rate=LEARNING_RATE),\n",
    "                   metrics=['acc'])"
   ]
  },
  {
   "cell_type": "code",
   "execution_count": 7,
   "id": "7a26316d",
   "metadata": {},
   "outputs": [
    {
     "name": "stdout",
     "output_type": "stream",
     "text": [
      "Epoch 1/10\n",
      "2000/2000 [==============================] - 4s 2ms/step - loss: 2.2190 - acc: 0.1814 - val_loss: 1.8947 - val_acc: 0.6165\n",
      "Epoch 2/10\n",
      "2000/2000 [==============================] - 3s 2ms/step - loss: 1.4424 - acc: 0.6026 - val_loss: 0.7783 - val_acc: 0.9515\n",
      "Epoch 3/10\n",
      "2000/2000 [==============================] - 3s 2ms/step - loss: 0.6682 - acc: 0.8431 - val_loss: 0.2590 - val_acc: 1.0000\n",
      "Epoch 4/10\n",
      "2000/2000 [==============================] - 3s 2ms/step - loss: 0.3337 - acc: 0.9204 - val_loss: 0.1032 - val_acc: 1.0000\n",
      "Epoch 5/10\n",
      "2000/2000 [==============================] - 3s 2ms/step - loss: 0.2083 - acc: 0.9459 - val_loss: 0.0508 - val_acc: 1.0000\n",
      "Epoch 6/10\n",
      "2000/2000 [==============================] - 3s 2ms/step - loss: 0.1344 - acc: 0.9700 - val_loss: 0.0258 - val_acc: 1.0000\n",
      "Epoch 7/10\n",
      "2000/2000 [==============================] - 3s 2ms/step - loss: 0.0982 - acc: 0.9755 - val_loss: 0.0161 - val_acc: 1.0000\n",
      "Epoch 8/10\n",
      "2000/2000 [==============================] - 3s 2ms/step - loss: 0.0734 - acc: 0.9839 - val_loss: 0.0101 - val_acc: 1.0000\n",
      "Epoch 9/10\n",
      "2000/2000 [==============================] - 3s 2ms/step - loss: 0.0554 - acc: 0.9877 - val_loss: 0.0070 - val_acc: 1.0000\n",
      "Epoch 10/10\n",
      "2000/2000 [==============================] - 3s 2ms/step - loss: 0.0478 - acc: 0.9861 - val_loss: 0.0049 - val_acc: 1.0000\n"
     ]
    }
   ],
   "source": [
    "history_conv = conv_model.fit(imgs, labels, \n",
    "                              validation_split=0.2, \n",
    "                              epochs=10, \n",
    "                              batch_size=4)"
   ]
  },
  {
   "cell_type": "code",
   "execution_count": 8,
   "id": "a009d22a",
   "metadata": {},
   "outputs": [],
   "source": [
    "pnums = np.load('/home/fizzer/ros_ws/src/controller_pkg/cnn_trainer/plates/pnums.npy', allow_pickle=True)"
   ]
  },
  {
   "cell_type": "code",
   "execution_count": 11,
   "id": "4eea4eb8",
   "metadata": {},
   "outputs": [
    {
     "name": "stdout",
     "output_type": "stream",
     "text": [
      "(1, 150, 100, 1)\n",
      "tf.Tensor(\n",
      "[[5.13207888e-05 9.98814344e-01 1.08261040e-04 5.51407247e-05\n",
      "  1.06876156e-04 1.75770445e-04 2.48207914e-04 1.55945265e-04\n",
      "  1.27001273e-04 1.57264760e-04]], shape=(1, 10), dtype=float32)\n",
      "1\n"
     ]
    },
    {
     "data": {
      "image/png": "[encoded data removed]",
      "text/plain": [
       "<Figure size 640x480 with 1 Axes>"
      ]
     },
     "metadata": {},
     "output_type": "display_data"
    }
   ],
   "source": [
    "im = cv2.resize(cv2.cvtColor(pnums[33], cv2.COLOR_BGR2GRAY), (100,150))\n",
    "plt.imshow(im, cmap='gray')\n",
    "plt.imshow(im, cmap='gray')\n",
    "im=im[...,np.newaxis][np.newaxis,...]/255\n",
    "print(im.shape)\n",
    "\n",
    "prob = conv_model(im)\n",
    "print(prob)\n",
    "\n",
    "print(np.argmax(prob))"
   ]
  },
  {
   "cell_type": "code",
   "execution_count": 12,
   "id": "e8c2d950",
   "metadata": {},
   "outputs": [
    {
     "name": "stderr",
     "output_type": "stream",
     "text": [
      "WARNING:absl:Found untraced functions such as _jit_compiled_convolution_op while saving (showing 1 of 1). These functions will not be directly callable after loading.\n"
     ]
    },
    {
     "name": "stdout",
     "output_type": "stream",
     "text": [
      "INFO:tensorflow:Assets written to: /home/fizzer/ros_ws/src/controller_pkg/cnn_trainer/pnums_model/assets\n"
     ]
    },
    {
     "name": "stderr",
     "output_type": "stream",
     "text": [
      "INFO:tensorflow:Assets written to: /home/fizzer/ros_ws/src/controller_pkg/cnn_trainer/pnums_model/assets\n"
     ]
    }
   ],
   "source": [
    "conv_model.save('/home/fizzer/ros_ws/src/controller_pkg/cnn_trainer/pnums_model')"
   ]
  }
 ],
 "metadata": {
  "kernelspec": {
   "display_name": "Python 3 (ipykernel)",
   "language": "python",
   "name": "python3"
  },
  "language_info": {
   "codemirror_mode": {
    "name": "ipython",
    "version": 3
   },
   "file_extension": ".py",
   "mimetype": "text/x-python",
   "name": "python",
   "nbconvert_exporter": "python",
   "pygments_lexer": "ipython3",
   "version": "3.8.10"
  }
 },
 "nbformat": 4,
 "nbformat_minor": 5
}
